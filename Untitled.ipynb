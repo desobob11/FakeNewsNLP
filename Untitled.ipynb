{
 "cells": [
  {
   "cell_type": "code",
   "execution_count": 1,
   "id": "50706eff-b37f-4a58-b41b-0d6e46c6c799",
   "metadata": {},
   "outputs": [
    {
     "name": "stdout",
     "output_type": "stream",
     "text": [
      "Requirement already satisfied: openpyxl in /opt/homebrew/Cellar/jupyterlab/4.2.5_1/libexec/lib/python3.12/site-packages (3.1.5)\n",
      "Requirement already satisfied: et-xmlfile in /opt/homebrew/Cellar/jupyterlab/4.2.5_1/libexec/lib/python3.12/site-packages (from openpyxl) (2.0.0)\n",
      "\n",
      "\u001b[1m[\u001b[0m\u001b[34;49mnotice\u001b[0m\u001b[1;39;49m]\u001b[0m\u001b[39;49m A new release of pip is available: \u001b[0m\u001b[31;49m24.2\u001b[0m\u001b[39;49m -> \u001b[0m\u001b[32;49m24.3.1\u001b[0m\n",
      "\u001b[1m[\u001b[0m\u001b[34;49mnotice\u001b[0m\u001b[1;39;49m]\u001b[0m\u001b[39;49m To update, run: \u001b[0m\u001b[32;49m/opt/homebrew/Cellar/jupyterlab/4.2.5_1/libexec/bin/python -m pip install --upgrade pip\u001b[0m\n",
      "Note: you may need to restart the kernel to use updated packages.\n"
     ]
    }
   ],
   "source": [
    "pip install openpyxl"
   ]
  },
  {
   "cell_type": "code",
   "execution_count": 2,
   "id": "479a0606-52d5-426b-a5fe-3bde5ba04b96",
   "metadata": {},
   "outputs": [
    {
     "name": "stderr",
     "output_type": "stream",
     "text": [
      "/var/folders/5t/fxgd6xw57pv3hcsy91dsxnkm0000gn/T/ipykernel_2080/3181403423.py:17: DtypeWarning: Columns (50,51,52,53,54,55,56,57,58,59,60,61,62,63,64,65,66,67,68,69,70,71,72,73,74,75,76,77,78,79,80,81,82,83,84,85,86,87,88,89,90,91,92,93,94,95,96,97,98,99,100,101,102,103,104,105,106,107,108,109,110,111,112,113,114,115,116,117,118,119,120,121,122,123,124,125,126,127,128,129,130,131,132,133,134,135,136,137,138,139,140,141,142,143,144) have mixed types. Specify dtype option on import or set low_memory=False.\n",
      "  data = pd.read_csv(read_file)\n"
     ]
    }
   ],
   "source": [
    "import os\n",
    "import pandas as pd\n",
    "import numpy as np\n",
    "from sklearn.model_selection import train_test_split\n",
    "import torch\n",
    "from transformers import BertTokenizer, BertForSequenceClassification, GPT2LMHeadModel, GPT2Tokenizer\n",
    "import tensorflow as tf\n",
    "import openpyxl\n",
    "from sklearn.linear_model import LogisticRegression\n",
    "import pickle\n",
    "\n",
    "\n",
    "read_file = r\"WELFakeDataset5000.csv\"\n",
    "read_sheet = \"valid\"\n",
    "write_file = r\"WELFAKE_PROCESSED.csv\"\n",
    "\n",
    "data = pd.read_csv(read_file)\n",
    "data = data.dropna(axis=0)"
   ]
  },
  {
   "cell_type": "code",
   "execution_count": 3,
   "id": "e6a0d642-ba39-4992-af47-7327993d38ea",
   "metadata": {},
   "outputs": [],
   "source": [
    "# Remove non-ASCII characters\n",
    "data[\"title\"] = data.apply(lambda x: \"\".join([i for i in x[\"title\"] if ord(i) <= 127]), axis=1)\n",
    "data[\"text\"] = data.apply(lambda x: \"\".join([i for i in x[\"text\"] if ord(i) <= 127]), axis=1)"
   ]
  },
  {
   "cell_type": "code",
   "execution_count": 4,
   "id": "6b6d4eb8-9b1c-4835-9ca4-fdeff119c049",
   "metadata": {},
   "outputs": [
    {
     "name": "stderr",
     "output_type": "stream",
     "text": [
      "Some weights of BertForSequenceClassification were not initialized from the model checkpoint at bert-base-uncased and are newly initialized: ['classifier.bias', 'classifier.weight']\n",
      "You should probably TRAIN this model on a down-stream task to be able to use it for predictions and inference.\n"
     ]
    }
   ],
   "source": [
    "# Initialize BERT and GPT models\n",
    "bert_tokenizer = BertTokenizer.from_pretrained('bert-base-uncased')\n",
    "bert_model = BertForSequenceClassification.from_pretrained('bert-base-uncased')\n",
    "\n",
    "gpt_tokenizer = GPT2Tokenizer.from_pretrained('gpt2')\n",
    "gpt_model = GPT2LMHeadModel.from_pretrained('gpt2')\n",
    "\n",
    "# Define a function for sentiment analysis using BERT\n",
    "def get_bert_sentiment(text):\n",
    "    inputs = bert_tokenizer(text, return_tensors=\"pt\", padding=True, truncation=True, max_length=512)\n",
    "    \n",
    "    # Pass the input through the model and compute logits\n",
    "    outputs = bert_model(**inputs)\n",
    "    logits = outputs.logits\n",
    "    \n",
    "    # Calculate the average logits over all tokens (except padding) to get a single score\n",
    "    avg_logits = torch.mean(logits, dim=1)\n",
    "    \n",
    "    # Apply torch.argmax to get sentiment label\n",
    "    sentiment = torch.argmax(avg_logits, dim=-1).item()\n",
    "    \n",
    "    return sentiment\n",
    "\n",
    "gpt_tokenizer.pad_token = gpt_tokenizer.eos_token\n",
    "# Define a function for sentiment analysis using GPT\n",
    "def get_gpt_sentiment(text):\n",
    "    inputs = gpt_tokenizer(text, return_tensors=\"pt\", padding=True, truncation=True, max_length=512)\n",
    "    \n",
    "    # Pass the input through the GPT model to get logits\n",
    "    outputs = gpt_model(**inputs)\n",
    "    logits = outputs.logits\n",
    "    \n",
    "    # Calculate the average logits over all tokens (except padding) to get a single score\n",
    "    avg_logits = torch.mean(logits, dim=1)\n",
    "    \n",
    "    # Apply torch.argmax to the average logits\n",
    "    sentiment = torch.argmax(avg_logits, dim=-1).item()\n",
    "    \n",
    "    return sentiment\n"
   ]
  },
  {
   "cell_type": "code",
   "execution_count": 5,
   "id": "abe46367-5baa-4089-978f-b1f8d809eca5",
   "metadata": {},
   "outputs": [],
   "source": [
    "# Apply BERT sentiment analysis on the 'title' and 'text'\n",
    "data[\"title_bert_sentiment\"] = data[\"title\"].apply(lambda x: get_bert_sentiment(x))\n",
    "data[\"text_bert_sentiment\"] = data[\"text\"].apply(lambda x: get_bert_sentiment(x))"
   ]
  },
  {
   "cell_type": "code",
   "execution_count": 6,
   "id": "81f2d9b7-80b6-4247-a259-abb44d401da8",
   "metadata": {},
   "outputs": [],
   "source": [
    "# Apply GPT sentiment analysis on the 'title' and 'text'\n",
    "data[\"title_gpt_sentiment\"] = data[\"title\"].apply(lambda x: get_gpt_sentiment(x))\n",
    "data[\"text_gpt_sentiment\"] = data[\"text\"].apply(lambda x: get_gpt_sentiment(x))"
   ]
  },
  {
   "cell_type": "code",
   "execution_count": 7,
   "id": "689ac558-a728-4283-b922-dd158de9ed17",
   "metadata": {},
   "outputs": [],
   "source": [
    "# Apply logistic regression for sentiment classification\n",
    "texts = data[[\"text_bert_sentiment\", \"text_gpt_sentiment\"]].to_numpy()\n",
    "titles = data[[\"title_bert_sentiment\", \"title_gpt_sentiment\"]].to_numpy()"
   ]
  },
  {
   "cell_type": "code",
   "execution_count": 8,
   "id": "b9cc18a5-80a3-4ce4-a95e-03fd65aa25af",
   "metadata": {},
   "outputs": [
    {
     "ename": "FileNotFoundError",
     "evalue": "[Errno 2] No such file or directory: 'SA_tweets/TWEETS_LOG.pkl'",
     "output_type": "error",
     "traceback": [
      "\u001b[0;31m---------------------------------------------------------------------------\u001b[0m",
      "\u001b[0;31mFileNotFoundError\u001b[0m                         Traceback (most recent call last)",
      "Cell \u001b[0;32mIn[8], line 3\u001b[0m\n\u001b[1;32m      1\u001b[0m \u001b[38;5;66;03m# Logistic Regression for text sentiment\u001b[39;00m\n\u001b[1;32m      2\u001b[0m tweet_text_log: LogisticRegression \u001b[38;5;241m=\u001b[39m \u001b[38;5;28;01mNone\u001b[39;00m\n\u001b[0;32m----> 3\u001b[0m \u001b[38;5;28;01mwith\u001b[39;00m \u001b[38;5;28;43mopen\u001b[39;49m\u001b[43m(\u001b[49m\u001b[38;5;124;43mr\u001b[39;49m\u001b[38;5;124;43m\"\u001b[39;49m\u001b[38;5;124;43mSA_tweets/TWEETS_LOG.pkl\u001b[39;49m\u001b[38;5;124;43m\"\u001b[39;49m\u001b[43m,\u001b[49m\u001b[43m \u001b[49m\u001b[38;5;124;43m\"\u001b[39;49m\u001b[38;5;124;43mrb\u001b[39;49m\u001b[38;5;124;43m\"\u001b[39;49m\u001b[43m)\u001b[49m \u001b[38;5;28;01mas\u001b[39;00m file:\n\u001b[1;32m      4\u001b[0m     tweet_text_log \u001b[38;5;241m=\u001b[39m pickle\u001b[38;5;241m.\u001b[39mload(file)\n\u001b[1;32m      6\u001b[0m imdb_text_log: LogisticRegression \u001b[38;5;241m=\u001b[39m \u001b[38;5;28;01mNone\u001b[39;00m\n",
      "File \u001b[0;32m/opt/homebrew/Cellar/jupyterlab/4.2.5_1/libexec/lib/python3.12/site-packages/IPython/core/interactiveshell.py:324\u001b[0m, in \u001b[0;36m_modified_open\u001b[0;34m(file, *args, **kwargs)\u001b[0m\n\u001b[1;32m    317\u001b[0m \u001b[38;5;28;01mif\u001b[39;00m file \u001b[38;5;129;01min\u001b[39;00m {\u001b[38;5;241m0\u001b[39m, \u001b[38;5;241m1\u001b[39m, \u001b[38;5;241m2\u001b[39m}:\n\u001b[1;32m    318\u001b[0m     \u001b[38;5;28;01mraise\u001b[39;00m \u001b[38;5;167;01mValueError\u001b[39;00m(\n\u001b[1;32m    319\u001b[0m         \u001b[38;5;124mf\u001b[39m\u001b[38;5;124m\"\u001b[39m\u001b[38;5;124mIPython won\u001b[39m\u001b[38;5;124m'\u001b[39m\u001b[38;5;124mt let you open fd=\u001b[39m\u001b[38;5;132;01m{\u001b[39;00mfile\u001b[38;5;132;01m}\u001b[39;00m\u001b[38;5;124m by default \u001b[39m\u001b[38;5;124m\"\u001b[39m\n\u001b[1;32m    320\u001b[0m         \u001b[38;5;124m\"\u001b[39m\u001b[38;5;124mas it is likely to crash IPython. If you know what you are doing, \u001b[39m\u001b[38;5;124m\"\u001b[39m\n\u001b[1;32m    321\u001b[0m         \u001b[38;5;124m\"\u001b[39m\u001b[38;5;124myou can use builtins\u001b[39m\u001b[38;5;124m'\u001b[39m\u001b[38;5;124m open.\u001b[39m\u001b[38;5;124m\"\u001b[39m\n\u001b[1;32m    322\u001b[0m     )\n\u001b[0;32m--> 324\u001b[0m \u001b[38;5;28;01mreturn\u001b[39;00m \u001b[43mio_open\u001b[49m\u001b[43m(\u001b[49m\u001b[43mfile\u001b[49m\u001b[43m,\u001b[49m\u001b[43m \u001b[49m\u001b[38;5;241;43m*\u001b[39;49m\u001b[43margs\u001b[49m\u001b[43m,\u001b[49m\u001b[43m \u001b[49m\u001b[38;5;241;43m*\u001b[39;49m\u001b[38;5;241;43m*\u001b[39;49m\u001b[43mkwargs\u001b[49m\u001b[43m)\u001b[49m\n",
      "\u001b[0;31mFileNotFoundError\u001b[0m: [Errno 2] No such file or directory: 'SA_tweets/TWEETS_LOG.pkl'"
     ]
    }
   ],
   "source": [
    "# Logistic Regression for text sentiment\n",
    "tweet_text_log: LogisticRegression = None\n",
    "with open(r\"TWEETS_LOG.pkl\", \"rb\") as file:\n",
    "    tweet_text_log = pickle.load(file)\n",
    "\n",
    "imdb_text_log: LogisticRegression = None\n",
    "with open(r\"IMDB_LOG.pkl\", \"rb\") as file:\n",
    "    imdb_text_log = pickle.load(file)\n",
    "\n",
    "data[\"text_log_imdb\"] = imdb_text_log.predict(texts)\n",
    "data[\"text_log_tweets\"] = tweet_text_log.predict(texts)"
   ]
  },
  {
   "cell_type": "code",
   "execution_count": null,
   "id": "19850263-c30d-4779-b0b4-5f25abb38717",
   "metadata": {},
   "outputs": [],
   "source": [
    "\n",
    "# Logistic Regression for title sentiment\n",
    "tweet_title_log: LogisticRegression = None\n",
    "with open(r\"SA_tweets/TWEETS_LOG.pkl\", \"rb\") as file:\n",
    "    tweet_title_log = pickle.load(file)\n",
    "\n",
    "imdb_title_log: LogisticRegression = None\n",
    "with open(r\"SA_imdb/IMDB_LOG.pkl\", \"rb\") as file:\n",
    "    imdb_title_log = pickle.load(file)\n",
    "\n",
    "data[\"title_log_imdb\"] = imdb_title_log.predict(titles)\n",
    "data[\"title_log_tweets\"] = tweet_title_log.predict(titles)"
   ]
  },
  {
   "cell_type": "code",
   "execution_count": null,
   "id": "0955c3fc-19b8-42df-adee-82434b436e70",
   "metadata": {},
   "outputs": [],
   "source": [
    "# Example TensorFlow model processing (for sentiment classification)\n",
    "features = data[[\"text_bert_sentiment\", \"text_gpt_sentiment\"]].to_numpy()\n",
    "\n",
    "imdb_model = tf.keras.models.load_model(r\"SA_imdb/IMDB_NN.keras\")\n",
    "imdb_sentiment = np.argmax(imdb_model.predict(features), axis=-1)\n",
    "\n",
    "tweets_model = tf.keras.models.load_model(r\"SA_tweets/TWEETS_NN.keras\")\n",
    "tweets_sentiment = np.argmax(tweets_model.predict(features), axis=-1)\n",
    "\n",
    "data[\"text_NN_imdb\"] = imdb_sentiment\n",
    "data[\"text_NN_tweets\"] = tweets_sentiment"
   ]
  },
  {
   "cell_type": "code",
   "execution_count": null,
   "id": "f7dbf064-01ba-4cec-a0ae-d0d7f1a2afbd",
   "metadata": {},
   "outputs": [],
   "source": [
    "# Neural Net for news title\n",
    "features = data[[\"title_bert_sentiment\", \"title_gpt_sentiment\"]].to_numpy()\n",
    "\n",
    "imdb_model_two = tf.keras.models.load_model(r\"SA_imdb/IMDB_NN.keras\")\n",
    "imdb_sentiment_two = np.argmax(imdb_model_two.predict(features), axis=-1)\n",
    "\n",
    "tweets_model_two = tf.keras.models.load_model(r\"SA_tweets/TWEETS_NN.keras\")\n",
    "tweets_sentiment_two = np.argmax(tweets_model_two.predict(features), axis=-1)\n",
    "\n",
    "data[\"title_NN_imdb\"] = imdb_sentiment_two\n",
    "data[\"title_NN_tweets\"] = tweets_sentiment_two\n",
    "\n",
    "data.to_csv(write_file, index=False)"
   ]
  }
 ],
 "metadata": {
  "kernelspec": {
   "display_name": "Python 3 (ipykernel)",
   "language": "python",
   "name": "python3"
  },
  "language_info": {
   "codemirror_mode": {
    "name": "ipython",
    "version": 3
   },
   "file_extension": ".py",
   "mimetype": "text/x-python",
   "name": "python",
   "nbconvert_exporter": "python",
   "pygments_lexer": "ipython3",
   "version": "3.12.7"
  }
 },
 "nbformat": 4,
 "nbformat_minor": 5
}
