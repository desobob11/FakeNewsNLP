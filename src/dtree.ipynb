{
 "cells": [
  {
   "cell_type": "code",
   "execution_count": 1,
   "metadata": {},
   "outputs": [],
   "source": [
    "import os\n",
    "import pandas as pd\n",
    "from textblob import *\n",
    "import nltk\n",
    "import numpy as np\n",
    "from sklearn import tree\n",
    "\n",
    "df = pd.read_csv(\"ISOTProcessedTraining.csv\")\n",
    "\n",
    "\n",
    "training = df[[i for i in df.columns if \"fake\" not in i]].to_numpy()\n",
    "classes = df[\"fake\"].to_numpy()\n",
    "\n",
    "clf = tree.DecisionTreeClassifier()\n",
    "clf = clf.fit(training, classes)\n",
    "\n",
    "\n",
    "\n",
    "\n",
    "\n"
   ]
  },
  {
   "cell_type": "code",
   "execution_count": 6,
   "metadata": {},
   "outputs": [
    {
     "data": {
      "text/plain": [
       "0.65"
      ]
     },
     "execution_count": 6,
     "metadata": {},
     "output_type": "execute_result"
    }
   ],
   "source": [
    "valid = pd.read_csv(\"ISOTProcessedValidate.csv\")\n",
    "valid_data = valid[[i for i in valid.columns if \"fake\" not in i]].to_numpy()\n",
    "valid_data = clf.predict(valid_data)\n",
    "results = pd.DataFrame()\n",
    "results[\"predicted\"] = valid_data\n",
    "results[\"actual\"] = valid[\"fake\"]\n",
    "results[\"diff\"] = results.apply(lambda row: 1 if row[\"predicted\"] == row[\"actual\"] else 0, axis=1)\n",
    "len([i for i in results[\"diff\"] if i == 1]) / len(results[\"diff\"])\n"
   ]
  },
  {
   "cell_type": "code",
   "execution_count": null,
   "metadata": {},
   "outputs": [],
   "source": []
  },
  {
   "cell_type": "code",
   "execution_count": null,
   "metadata": {},
   "outputs": [],
   "source": []
  }
 ],
 "metadata": {
  "kernelspec": {
   "display_name": "Python 3",
   "language": "python",
   "name": "python3"
  },
  "language_info": {
   "codemirror_mode": {
    "name": "ipython",
    "version": 3
   },
   "file_extension": ".py",
   "mimetype": "text/x-python",
   "name": "python",
   "nbconvert_exporter": "python",
   "pygments_lexer": "ipython3",
   "version": "3.11.1"
  }
 },
 "nbformat": 4,
 "nbformat_minor": 2
}
