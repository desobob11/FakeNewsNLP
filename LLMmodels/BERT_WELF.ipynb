{
 "cells": [
  {
   "cell_type": "code",
   "execution_count": 1,
   "id": "412e25bd",
   "metadata": {
    "vscode": {
     "languageId": "plaintext"
    }
   },
   "outputs": [
    {
     "name": "stdout",
     "output_type": "stream",
     "text": [
      "Requirement already satisfied: tf-keras in /opt/homebrew/Cellar/jupyterlab/4.2.5_1/libexec/lib/python3.12/site-packages (2.18.0)\n",
      "Requirement already satisfied: pandas in /opt/homebrew/Cellar/jupyterlab/4.2.5_1/libexec/lib/python3.12/site-packages (2.2.3)\n",
      "Requirement already satisfied: torch in /opt/homebrew/Cellar/jupyterlab/4.2.5_1/libexec/lib/python3.12/site-packages (2.5.1)\n",
      "Requirement already satisfied: transformers in /opt/homebrew/Cellar/jupyterlab/4.2.5_1/libexec/lib/python3.12/site-packages (4.46.2)\n",
      "Requirement already satisfied: scikit-learn in /opt/homebrew/Cellar/jupyterlab/4.2.5_1/libexec/lib/python3.12/site-packages (1.5.2)\n",
      "Requirement already satisfied: ipywidgets in /opt/homebrew/Cellar/jupyterlab/4.2.5_1/libexec/lib/python3.12/site-packages (8.1.5)\n",
      "Requirement already satisfied: sentence_transformers in /opt/homebrew/Cellar/jupyterlab/4.2.5_1/libexec/lib/python3.12/site-packages (3.2.1)\n",
      "Requirement already satisfied: tqdm in /opt/homebrew/Cellar/jupyterlab/4.2.5_1/libexec/lib/python3.12/site-packages (4.66.6)\n",
      "Requirement already satisfied: tensorflow<2.19,>=2.18 in /opt/homebrew/Cellar/jupyterlab/4.2.5_1/libexec/lib/python3.12/site-packages (from tf-keras) (2.18.0)\n",
      "Requirement already satisfied: numpy>=1.26.0 in /opt/homebrew/Cellar/jupyterlab/4.2.5_1/libexec/lib/python3.12/site-packages (from pandas) (2.0.2)\n",
      "Requirement already satisfied: python-dateutil>=2.8.2 in /opt/homebrew/Cellar/jupyterlab/4.2.5_1/libexec/lib/python3.12/site-packages (from pandas) (2.9.0.post0)\n",
      "Requirement already satisfied: pytz>=2020.1 in /opt/homebrew/Cellar/jupyterlab/4.2.5_1/libexec/lib/python3.12/site-packages (from pandas) (2024.2)\n",
      "Requirement already satisfied: tzdata>=2022.7 in /opt/homebrew/Cellar/jupyterlab/4.2.5_1/libexec/lib/python3.12/site-packages (from pandas) (2024.2)\n",
      "Requirement already satisfied: filelock in /opt/homebrew/Cellar/jupyterlab/4.2.5_1/libexec/lib/python3.12/site-packages (from torch) (3.16.1)\n",
      "Requirement already satisfied: typing-extensions>=4.8.0 in /opt/homebrew/Cellar/jupyterlab/4.2.5_1/libexec/lib/python3.12/site-packages (from torch) (4.12.2)\n",
      "Requirement already satisfied: networkx in /opt/homebrew/Cellar/jupyterlab/4.2.5_1/libexec/lib/python3.12/site-packages (from torch) (3.4.2)\n",
      "Requirement already satisfied: jinja2 in /opt/homebrew/Cellar/jupyterlab/4.2.5_1/libexec/lib/python3.12/site-packages (from torch) (3.1.4)\n",
      "Requirement already satisfied: fsspec in /opt/homebrew/Cellar/jupyterlab/4.2.5_1/libexec/lib/python3.12/site-packages (from torch) (2024.9.0)\n",
      "Requirement already satisfied: setuptools in /opt/homebrew/Cellar/jupyterlab/4.2.5_1/libexec/lib/python3.12/site-packages (from torch) (74.0.0)\n",
      "Requirement already satisfied: sympy==1.13.1 in /opt/homebrew/Cellar/jupyterlab/4.2.5_1/libexec/lib/python3.12/site-packages (from torch) (1.13.1)\n",
      "Requirement already satisfied: mpmath<1.4,>=1.1.0 in /opt/homebrew/Cellar/jupyterlab/4.2.5_1/libexec/lib/python3.12/site-packages (from sympy==1.13.1->torch) (1.3.0)\n",
      "Requirement already satisfied: huggingface-hub<1.0,>=0.23.2 in /opt/homebrew/Cellar/jupyterlab/4.2.5_1/libexec/lib/python3.12/site-packages (from transformers) (0.26.2)\n",
      "Requirement already satisfied: packaging>=20.0 in /opt/homebrew/Cellar/jupyterlab/4.2.5_1/libexec/lib/python3.12/site-packages (from transformers) (24.1)\n",
      "Requirement already satisfied: pyyaml>=5.1 in /opt/homebrew/Cellar/jupyterlab/4.2.5_1/libexec/lib/python3.12/site-packages (from transformers) (6.0.2)\n",
      "Requirement already satisfied: regex!=2019.12.17 in /opt/homebrew/Cellar/jupyterlab/4.2.5_1/libexec/lib/python3.12/site-packages (from transformers) (2024.9.11)\n",
      "Requirement already satisfied: requests in /opt/homebrew/Cellar/jupyterlab/4.2.5_1/libexec/lib/python3.12/site-packages (from transformers) (2.32.3)\n",
      "Requirement already satisfied: safetensors>=0.4.1 in /opt/homebrew/Cellar/jupyterlab/4.2.5_1/libexec/lib/python3.12/site-packages (from transformers) (0.4.5)\n",
      "Requirement already satisfied: tokenizers<0.21,>=0.20 in /opt/homebrew/Cellar/jupyterlab/4.2.5_1/libexec/lib/python3.12/site-packages (from transformers) (0.20.1)\n",
      "Requirement already satisfied: scipy>=1.6.0 in /opt/homebrew/Cellar/jupyterlab/4.2.5_1/libexec/lib/python3.12/site-packages (from scikit-learn) (1.14.1)\n",
      "Requirement already satisfied: joblib>=1.2.0 in /opt/homebrew/Cellar/jupyterlab/4.2.5_1/libexec/lib/python3.12/site-packages (from scikit-learn) (1.4.2)\n",
      "Requirement already satisfied: threadpoolctl>=3.1.0 in /opt/homebrew/Cellar/jupyterlab/4.2.5_1/libexec/lib/python3.12/site-packages (from scikit-learn) (3.5.0)\n",
      "Requirement already satisfied: comm>=0.1.3 in /opt/homebrew/Cellar/jupyterlab/4.2.5_1/libexec/lib/python3.12/site-packages (from ipywidgets) (0.2.2)\n",
      "Requirement already satisfied: ipython>=6.1.0 in /opt/homebrew/Cellar/jupyterlab/4.2.5_1/libexec/lib/python3.12/site-packages (from ipywidgets) (8.26.0)\n",
      "Requirement already satisfied: traitlets>=4.3.1 in /opt/homebrew/Cellar/jupyterlab/4.2.5_1/libexec/lib/python3.12/site-packages (from ipywidgets) (5.14.3)\n",
      "Requirement already satisfied: widgetsnbextension~=4.0.12 in /opt/homebrew/Cellar/jupyterlab/4.2.5_1/libexec/lib/python3.12/site-packages (from ipywidgets) (4.0.13)\n",
      "Requirement already satisfied: jupyterlab-widgets~=3.0.12 in /opt/homebrew/Cellar/jupyterlab/4.2.5_1/libexec/lib/python3.12/site-packages (from ipywidgets) (3.0.13)\n",
      "Requirement already satisfied: Pillow in /opt/homebrew/Cellar/jupyterlab/4.2.5_1/libexec/lib/python3.12/site-packages (from sentence_transformers) (11.0.0)\n",
      "Requirement already satisfied: decorator in /opt/homebrew/Cellar/jupyterlab/4.2.5_1/libexec/lib/python3.12/site-packages (from ipython>=6.1.0->ipywidgets) (5.1.1)\n",
      "Requirement already satisfied: jedi>=0.16 in /opt/homebrew/Cellar/jupyterlab/4.2.5_1/libexec/lib/python3.12/site-packages (from ipython>=6.1.0->ipywidgets) (0.19.1)\n",
      "Requirement already satisfied: matplotlib-inline in /opt/homebrew/Cellar/jupyterlab/4.2.5_1/libexec/lib/python3.12/site-packages (from ipython>=6.1.0->ipywidgets) (0.1.7)\n",
      "Requirement already satisfied: prompt-toolkit<3.1.0,>=3.0.41 in /opt/homebrew/Cellar/jupyterlab/4.2.5_1/libexec/lib/python3.12/site-packages (from ipython>=6.1.0->ipywidgets) (3.0.47)\n",
      "Requirement already satisfied: pygments>=2.4.0 in /opt/homebrew/Cellar/jupyterlab/4.2.5_1/libexec/lib/python3.12/site-packages (from ipython>=6.1.0->ipywidgets) (2.18.0)\n",
      "Requirement already satisfied: stack-data in /opt/homebrew/Cellar/jupyterlab/4.2.5_1/libexec/lib/python3.12/site-packages (from ipython>=6.1.0->ipywidgets) (0.6.3)\n",
      "Requirement already satisfied: pexpect>4.3 in /opt/homebrew/Cellar/jupyterlab/4.2.5_1/libexec/lib/python3.12/site-packages (from ipython>=6.1.0->ipywidgets) (4.9.0)\n",
      "Requirement already satisfied: six>=1.5 in /opt/homebrew/Cellar/jupyterlab/4.2.5_1/libexec/lib/python3.12/site-packages (from python-dateutil>=2.8.2->pandas) (1.16.0)\n",
      "Requirement already satisfied: absl-py>=1.0.0 in /opt/homebrew/Cellar/jupyterlab/4.2.5_1/libexec/lib/python3.12/site-packages (from tensorflow<2.19,>=2.18->tf-keras) (2.1.0)\n",
      "Requirement already satisfied: astunparse>=1.6.0 in /opt/homebrew/Cellar/jupyterlab/4.2.5_1/libexec/lib/python3.12/site-packages (from tensorflow<2.19,>=2.18->tf-keras) (1.6.3)\n",
      "Requirement already satisfied: flatbuffers>=24.3.25 in /opt/homebrew/Cellar/jupyterlab/4.2.5_1/libexec/lib/python3.12/site-packages (from tensorflow<2.19,>=2.18->tf-keras) (24.3.25)\n",
      "Requirement already satisfied: gast!=0.5.0,!=0.5.1,!=0.5.2,>=0.2.1 in /opt/homebrew/Cellar/jupyterlab/4.2.5_1/libexec/lib/python3.12/site-packages (from tensorflow<2.19,>=2.18->tf-keras) (0.6.0)\n",
      "Requirement already satisfied: google-pasta>=0.1.1 in /opt/homebrew/Cellar/jupyterlab/4.2.5_1/libexec/lib/python3.12/site-packages (from tensorflow<2.19,>=2.18->tf-keras) (0.2.0)\n",
      "Requirement already satisfied: libclang>=13.0.0 in /opt/homebrew/Cellar/jupyterlab/4.2.5_1/libexec/lib/python3.12/site-packages (from tensorflow<2.19,>=2.18->tf-keras) (18.1.1)\n",
      "Requirement already satisfied: opt-einsum>=2.3.2 in /opt/homebrew/Cellar/jupyterlab/4.2.5_1/libexec/lib/python3.12/site-packages (from tensorflow<2.19,>=2.18->tf-keras) (3.4.0)\n",
      "Requirement already satisfied: protobuf!=4.21.0,!=4.21.1,!=4.21.2,!=4.21.3,!=4.21.4,!=4.21.5,<6.0.0dev,>=3.20.3 in /opt/homebrew/Cellar/jupyterlab/4.2.5_1/libexec/lib/python3.12/site-packages (from tensorflow<2.19,>=2.18->tf-keras) (5.28.3)\n",
      "Requirement already satisfied: termcolor>=1.1.0 in /opt/homebrew/Cellar/jupyterlab/4.2.5_1/libexec/lib/python3.12/site-packages (from tensorflow<2.19,>=2.18->tf-keras) (2.5.0)\n",
      "Requirement already satisfied: wrapt>=1.11.0 in /opt/homebrew/Cellar/jupyterlab/4.2.5_1/libexec/lib/python3.12/site-packages (from tensorflow<2.19,>=2.18->tf-keras) (1.16.0)\n",
      "Requirement already satisfied: grpcio<2.0,>=1.24.3 in /opt/homebrew/Cellar/jupyterlab/4.2.5_1/libexec/lib/python3.12/site-packages (from tensorflow<2.19,>=2.18->tf-keras) (1.68.0)\n",
      "Requirement already satisfied: tensorboard<2.19,>=2.18 in /opt/homebrew/Cellar/jupyterlab/4.2.5_1/libexec/lib/python3.12/site-packages (from tensorflow<2.19,>=2.18->tf-keras) (2.18.0)\n",
      "Requirement already satisfied: keras>=3.5.0 in /opt/homebrew/Cellar/jupyterlab/4.2.5_1/libexec/lib/python3.12/site-packages (from tensorflow<2.19,>=2.18->tf-keras) (3.6.0)\n",
      "Requirement already satisfied: h5py>=3.11.0 in /opt/homebrew/Cellar/jupyterlab/4.2.5_1/libexec/lib/python3.12/site-packages (from tensorflow<2.19,>=2.18->tf-keras) (3.12.1)\n",
      "Requirement already satisfied: ml-dtypes<0.5.0,>=0.4.0 in /opt/homebrew/Cellar/jupyterlab/4.2.5_1/libexec/lib/python3.12/site-packages (from tensorflow<2.19,>=2.18->tf-keras) (0.4.1)\n",
      "Requirement already satisfied: charset-normalizer<4,>=2 in /opt/homebrew/Cellar/jupyterlab/4.2.5_1/libexec/lib/python3.12/site-packages (from requests->transformers) (3.3.2)\n",
      "Requirement already satisfied: idna<4,>=2.5 in /opt/homebrew/Cellar/jupyterlab/4.2.5_1/libexec/lib/python3.12/site-packages (from requests->transformers) (3.8)\n",
      "Requirement already satisfied: urllib3<3,>=1.21.1 in /opt/homebrew/Cellar/jupyterlab/4.2.5_1/libexec/lib/python3.12/site-packages (from requests->transformers) (2.2.2)\n",
      "Requirement already satisfied: certifi>=2017.4.17 in /opt/homebrew/opt/certifi/lib/python3.12/site-packages (from requests->transformers) (2024.8.30)\n",
      "Requirement already satisfied: MarkupSafe>=2.0 in /opt/homebrew/Cellar/jupyterlab/4.2.5_1/libexec/lib/python3.12/site-packages (from jinja2->torch) (2.1.5)\n",
      "Requirement already satisfied: wheel<1.0,>=0.23.0 in /opt/homebrew/lib/python3.12/site-packages (from astunparse>=1.6.0->tensorflow<2.19,>=2.18->tf-keras) (0.44.0)\n",
      "Requirement already satisfied: parso<0.9.0,>=0.8.3 in /opt/homebrew/Cellar/jupyterlab/4.2.5_1/libexec/lib/python3.12/site-packages (from jedi>=0.16->ipython>=6.1.0->ipywidgets) (0.8.4)\n",
      "Requirement already satisfied: rich in /opt/homebrew/Cellar/jupyterlab/4.2.5_1/libexec/lib/python3.12/site-packages (from keras>=3.5.0->tensorflow<2.19,>=2.18->tf-keras) (13.9.4)\n",
      "Requirement already satisfied: namex in /opt/homebrew/Cellar/jupyterlab/4.2.5_1/libexec/lib/python3.12/site-packages (from keras>=3.5.0->tensorflow<2.19,>=2.18->tf-keras) (0.0.8)\n",
      "Requirement already satisfied: optree in /opt/homebrew/Cellar/jupyterlab/4.2.5_1/libexec/lib/python3.12/site-packages (from keras>=3.5.0->tensorflow<2.19,>=2.18->tf-keras) (0.13.1)\n",
      "Requirement already satisfied: ptyprocess>=0.5 in /opt/homebrew/Cellar/jupyterlab/4.2.5_1/libexec/lib/python3.12/site-packages (from pexpect>4.3->ipython>=6.1.0->ipywidgets) (0.7.0)\n",
      "Requirement already satisfied: wcwidth in /opt/homebrew/Cellar/jupyterlab/4.2.5_1/libexec/lib/python3.12/site-packages (from prompt-toolkit<3.1.0,>=3.0.41->ipython>=6.1.0->ipywidgets) (0.2.13)\n",
      "Requirement already satisfied: markdown>=2.6.8 in /opt/homebrew/Cellar/jupyterlab/4.2.5_1/libexec/lib/python3.12/site-packages (from tensorboard<2.19,>=2.18->tensorflow<2.19,>=2.18->tf-keras) (3.7)\n",
      "Requirement already satisfied: tensorboard-data-server<0.8.0,>=0.7.0 in /opt/homebrew/Cellar/jupyterlab/4.2.5_1/libexec/lib/python3.12/site-packages (from tensorboard<2.19,>=2.18->tensorflow<2.19,>=2.18->tf-keras) (0.7.2)\n",
      "Requirement already satisfied: werkzeug>=1.0.1 in /opt/homebrew/Cellar/jupyterlab/4.2.5_1/libexec/lib/python3.12/site-packages (from tensorboard<2.19,>=2.18->tensorflow<2.19,>=2.18->tf-keras) (3.1.3)\n",
      "Requirement already satisfied: executing>=1.2.0 in /opt/homebrew/Cellar/jupyterlab/4.2.5_1/libexec/lib/python3.12/site-packages (from stack-data->ipython>=6.1.0->ipywidgets) (2.0.1)\n",
      "Requirement already satisfied: asttokens>=2.1.0 in /opt/homebrew/Cellar/jupyterlab/4.2.5_1/libexec/lib/python3.12/site-packages (from stack-data->ipython>=6.1.0->ipywidgets) (2.4.1)\n",
      "Requirement already satisfied: pure-eval in /opt/homebrew/Cellar/jupyterlab/4.2.5_1/libexec/lib/python3.12/site-packages (from stack-data->ipython>=6.1.0->ipywidgets) (0.2.3)\n",
      "Requirement already satisfied: markdown-it-py>=2.2.0 in /opt/homebrew/Cellar/jupyterlab/4.2.5_1/libexec/lib/python3.12/site-packages (from rich->keras>=3.5.0->tensorflow<2.19,>=2.18->tf-keras) (3.0.0)\n",
      "Requirement already satisfied: mdurl~=0.1 in /opt/homebrew/Cellar/jupyterlab/4.2.5_1/libexec/lib/python3.12/site-packages (from markdown-it-py>=2.2.0->rich->keras>=3.5.0->tensorflow<2.19,>=2.18->tf-keras) (0.1.2)\n",
      "\n",
      "\u001b[1m[\u001b[0m\u001b[34;49mnotice\u001b[0m\u001b[1;39;49m]\u001b[0m\u001b[39;49m A new release of pip is available: \u001b[0m\u001b[31;49m24.2\u001b[0m\u001b[39;49m -> \u001b[0m\u001b[32;49m24.3.1\u001b[0m\n",
      "\u001b[1m[\u001b[0m\u001b[34;49mnotice\u001b[0m\u001b[1;39;49m]\u001b[0m\u001b[39;49m To update, run: \u001b[0m\u001b[32;49m/opt/homebrew/Cellar/jupyterlab/4.2.5_1/libexec/bin/python -m pip install --upgrade pip\u001b[0m\n",
      "Note: you may need to restart the kernel to use updated packages.\n"
     ]
    }
   ],
   "source": [
    "pip install tf-keras pandas torch transformers scikit-learn ipywidgets sentence_transformers tqdm"
   ]
  },
  {
   "cell_type": "code",
   "execution_count": 2,
   "id": "a11d53f6-6acf-43db-9943-ab8770941c0a",
   "metadata": {},
   "outputs": [],
   "source": [
    "import pandas as pd\n",
    "import torch\n",
    "from transformers import BertTokenizer, BertModel\n",
    "from sklearn.linear_model import LogisticRegression\n",
    "from sklearn.model_selection import train_test_split\n",
    "from sklearn.preprocessing import StandardScaler\n",
    "from sklearn.metrics import accuracy_score, classification_report\n",
    "from sklearn.ensemble import RandomForestClassifier\n",
    "from sklearn.ensemble import VotingClassifier\n",
    "from sklearn.svm import SVC\n",
    "from sentence_transformers import SentenceTransformer\n",
    "from tqdm.notebook import tqdm\n"
   ]
  },
  {
   "cell_type": "code",
   "execution_count": 3,
   "id": "8c134e80-afe5-4e2f-8aec-4f613455ad0d",
   "metadata": {},
   "outputs": [
    {
     "name": "stderr",
     "output_type": "stream",
     "text": [
      "/var/folders/5t/fxgd6xw57pv3hcsy91dsxnkm0000gn/T/ipykernel_58989/3924009589.py:2: DtypeWarning: Columns (50,51,52,53,54,55,56,57,58,59,60,61,62,63,64,65,66,67,68,69,70,71,72,73,74,75,76,77,78,79,80,81,82,83,84,85,86,87,88,89,90,91,92,93,94,95,96,97,98,99,100,101,102,103,104,105,106,107,108,109,110,111,112,113,114,115,116,117,118,119,120,121,122,123,124,125,126,127,128,129,130,131,132,133,134,135,136,137,138,139,140,141,142,143,144) have mixed types. Specify dtype option on import or set low_memory=False.\n",
      "  df = pd.read_csv('WELFakeDataset5000.csv')  # Replace with your CSV file path\n"
     ]
    },
    {
     "name": "stdout",
     "output_type": "stream",
     "text": [
      "label\n",
      "1                                                                                                               2206\n",
      "0                                                                                                               2001\n",
      " anyone who thinks the Feminists want ‚Äúequality‚Äù only has to look at this decision. If Hillary was a man       1\n",
      " and not one shred of gratitude nor remorse from those who took credit they were unable to pay. Oz Steamer         1\n",
      " if current demographic trends continue                                                                            1\n",
      "                                                                                                                ... \n",
      " and whatever else I might decide to indulge in                                                                    1\n",
      " you‚Äôll help the Repubs steal what‚Äôs left of the country. Michael                                              1\n",
      " the safety net is going to break.‚Äù Yes                                                                          1\n",
      " Detroit                                                                                                           1\n",
      " just ask Larry Nichols. JC Teecher                                                                                1\n",
      "Name: count, Length: 195, dtype: int64\n"
     ]
    }
   ],
   "source": [
    "# Load the dataset\n",
    "df = pd.read_csv('WELFakeDataset5000.csv')  # Replace with your CSV file path\n",
    "\n",
    "# Drop rows where the label is NaN\n",
    "df = df.dropna(subset=['label'])\n",
    "\n",
    "\n",
    "# Extract relevant columns\n",
    "text_data = df['text'].fillna('').tolist()\n",
    "title_data = df['title'].fillna('').tolist()\n",
    "labels = df['label'].tolist()  # 1 = real, 0 = fake\n",
    "combined_data = [f\"{title} {text}\" for title, text in zip(title_data, text_data)]\n",
    "# Load BERT model and tokenizer\n",
    "tokenizer = BertTokenizer.from_pretrained('bert-base-uncased')\n",
    "model = BertModel.from_pretrained('bert-base-uncased')\n",
    "print(df['label'].value_counts())"
   ]
  },
  {
   "cell_type": "code",
   "execution_count": 4,
   "id": "7b6c6e15-92cf-418f-99b6-5b8110b809ba",
   "metadata": {},
   "outputs": [],
   "source": [
    "# Define function to get BERT embeddings\n",
    "def get_bert_embedding(text):\n",
    "    inputs = tokenizer(text, return_tensors='pt', truncation=True, max_length=512)\n",
    "    with torch.no_grad():\n",
    "        outputs = model(**inputs)\n",
    "    return outputs.last_hidden_state.mean(dim=1).squeeze().numpy()  # Pool to get a single embedding\n",
    "\n"
   ]
  },
  {
   "cell_type": "code",
   "execution_count": 5,
   "id": "f355e147-81bb-4dcb-afc1-6d60cd15fa76",
   "metadata": {},
   "outputs": [
    {
     "data": {
      "application/vnd.jupyter.widget-view+json": {
       "model_id": "403f9f385c564c2b99d6e8b7e95d1be9",
       "version_major": 2,
       "version_minor": 0
      },
      "text/plain": [
       "Generating embeddings for training set:   0%|          | 0/2640 [00:00<?, ?it/s]"
      ]
     },
     "metadata": {},
     "output_type": "display_data"
    },
    {
     "data": {
      "application/vnd.jupyter.widget-view+json": {
       "model_id": "50504a8f0999415380ae7a9820b571a1",
       "version_major": 2,
       "version_minor": 0
      },
      "text/plain": [
       "Generating embeddings for validation set:   0%|          | 0/880 [00:00<?, ?it/s]"
      ]
     },
     "metadata": {},
     "output_type": "display_data"
    },
    {
     "data": {
      "application/vnd.jupyter.widget-view+json": {
       "model_id": "e9f80df1e67f4de4a9bf18026a95a3dd",
       "version_major": 2,
       "version_minor": 0
      },
      "text/plain": [
       "Generating embeddings for test set:   0%|          | 0/880 [00:00<?, ?it/s]"
      ]
     },
     "metadata": {},
     "output_type": "display_data"
    }
   ],
   "source": [
    "\n",
    "model = SentenceTransformer('all-MiniLM-L6-v2')\n",
    "\n",
    "\n",
    "# Get embeddings for each text\n",
    "#embeddings = [get_bert_embedding(title) for title in title_data]\n",
    "\n",
    "#embeddings = [get_bert_embedding(text) for text in tqdm(combined_data)]\n",
    "\n",
    "text_temp, text_test, y_temp, y_test = train_test_split(combined_data, labels, test_size=0.2, random_state=42)\n",
    "text_train, text_val, y_train, y_val = train_test_split(text_temp, y_temp, test_size=0.25, random_state=42)\n",
    "\n",
    "embeddings_train = [model.encode(text) for text in tqdm(text_train, desc=\"Generating embeddings for training set\")]\n",
    "embeddings_val = [model.encode(text) for text in tqdm(text_val, desc=\"Generating embeddings for validation set\")]\n",
    "embeddings_test = [model.encode(text) for text in tqdm(text_test, desc=\"Generating embeddings for test set\")]\n",
    "\n",
    "\n"
   ]
  },
  {
   "cell_type": "code",
   "execution_count": 6,
   "id": "5da2c807-4003-445d-b84c-cde9e3e0795f",
   "metadata": {},
   "outputs": [
    {
     "name": "stdout",
     "output_type": "stream",
     "text": [
      "Validation Accuracy: 81.82%\n",
      "Test Accuracy: 83.86%\n",
      "\n",
      "Confusion Matrix:\n",
      " [[  0   0   0 ...   1   0   0]\n",
      " [  0   0   0 ...   1   0   0]\n",
      " [  0   0   0 ...   0   0   0]\n",
      " ...\n",
      " [  0   0   0 ... 383   0   0]\n",
      " [  0   0   0 ...   1   0   0]\n",
      " [  0   0   0 ...   0   0   0]]\n",
      "\n",
      "Classification Report:\n",
      "                                                                                                                                                                                                                                                                                                                                                                  precision    recall  f1-score   support\n",
      "\n",
      "                                                                                                                                                  Duncan explained ‚ÄúBaiame came from a place that we call the Morning Star within the Mirrabooka. Mira means stars and booka means river. That is the Milky Way that flows across the North Star. ‚Äù43 Baiame       0.00      0.00      0.00         1\n",
      "                                                                                                                                                                                                          Roosevelt warned that a ‚Äúreign of terror and international lawlessness‚Äù was threatening ‚Äúthe very foundations of civilization.‚Äù In vivid terms       0.00      0.00      0.00         1\n",
      "                                                                                                                                                                                                                                                                                                                                  Wesley Lowery and Steven Rich)       0.00      0.00      0.00         1\n",
      "                                                                                                                                                                                                                                                                                                           and I thought it was very important not to be trapped       0.00      0.00      0.00         1\n",
      "                                                      and I wanted to start with a question of a young man who is a political science student here in ‚Äì at DePaul University who wants to think about his future by asking you something about his past. He asks: ‚ÄúHow has your experience as a Vietnam veteran influenced you not only throughout your life       0.00      0.00      0.00         0\n",
      "                                                                                                                                                                                                                                                               and communications. This market is a 4 to 5 billion user market today going up to 9 billion users       0.00      0.00      0.00         1\n",
      "                                                                                                                                                                                                                                                                                                                and determination out of American‚Äôs. Michelle        0.00      0.00      0.00         1\n",
      "                                                                                                                                                                                                                                                     and diversity is rooted in bigotry against those groups  that it's the manifestation of specific homophobia       0.00      0.00      0.00         1\n",
      "                                                                                                                                                                                                                                                     and get an understanding of the place you‚Äôre thinking about going so you understand what the dynamics are       0.00      0.00      0.00         1\n",
      "                                                                                                                                                                                                                                                        and often those demands coincide with issues such as policing that also speak to authoritarian concerns.       0.00      0.00      0.00         1\n",
      "                                                                                                                                                                                                            and other devices. And this is probably the single-most important step that we could take to limit the severity of global warming in ways because it       0.00      0.00      0.00         1\n",
      "                                                                                                                                                                                                                                                                                                                   and particularly what‚Äôs going on right now.       0.00      0.00      0.00         1\n",
      "                                                                                                                                                                                                             and that idea is about freedom and the pursuit of happiness and all people being created equal with the opportunity to make the most of themselves.       0.00      0.00      0.00         1\n",
      "                                                                                                                                                                                                                                                                                                                          are more susceptible to these messages       0.00      0.00      0.00         1\n",
      "                                                                                                                                                                                                                                                                                                                                                  better world.        0.00      0.00      0.00         1\n",
      "                                                                                                                                                                                                                                                                               but he left us some interesting quotes. Marx did get one thing right when he said       0.00      0.00      0.00         1\n",
      "                                                                                                                                                                                                                                                                                                                       but that's not unique to Trump supporters       0.00      0.00      0.00         1\n",
      "                                                                                                                                                                                                                                                                     but they are too few and their views too unpopular to win a national election on their own.       0.00      0.00      0.00         1\n",
      "                                                                                                                                                                                                                                                                                                                                                 car maintenance       0.00      0.00      0.00         1\n",
      "                                                                                                                                                                                                                                                                                                                content with this life I‚Äôve been lucky to have       0.00      0.00      0.00         1\n",
      "                                                                                                                                                                                                                                                                                                                         does not seek Him. All his thoughts are       0.00      0.00      0.00         1\n",
      "                                                                                                                                                                                                                                                                           especially to those of us who are in the middle (like myself) or liberal (like Gary2)       0.00      0.00      0.00         1\n",
      "                                                                                                                                                                                                                                                                                            etc. Then you will all get you wish and reap the consequences. Paul        0.00      0.00      0.00         1\n",
      "                                                                                                                                                                                                                                                                                                                                       fumed. And it was Sarkozy       0.00      0.00      0.00         1\n",
      "                                                                                                                                                                                                                                                                                                                                                         however       0.00      0.00      0.00         1\n",
      "                                                                                                                                                                                                                                   however intimidating the process and long the lines. For Americans who may feel unmoved or unwilling to vote for Mrs. Clinton       0.00      0.00      0.00         1\n",
      "                                                                                                                                                                                                                                                                in which social threats are perceived as especially dangerous and as demanding extreme responses       0.00      0.00      0.00         1\n",
      "                                                                                                                                                                                                                                                                                                                                               in your own words       0.00      0.00      0.00         1\n",
      "                                                                                                                                                                                                                                                                                                        it is no more knowledgable of the future than you or I.        0.00      0.00      0.00         1\n",
      "                                                                                                                                                                                                                                                                                                                             just ask Larry Nichols. JC Teecher        0.00      0.00      0.00         1\n",
      "                                                                                                                                                                                                                                                                                       never to produce anything again of any consequence for the general public       0.00      0.00      0.00         1\n",
      "                                                                                                                                                                                                                                                                                                                                           on policy preferences       0.00      0.00      0.00         1\n",
      "                                                                                                                                                                                                                                                                                                                                                   or better yet       0.00      0.00      0.00         1\n",
      "                                                                                                                                                                                                                                                                                                                                                  or pink people       0.00      0.00      0.00         1\n",
      "                                                                                                                                                                                                                                                                                                                                                        powerful       0.00      0.00      0.00         1\n",
      "                                                                                                                                                                                  powerful message to entrepreneurs and investors everywhere in the world that now is the time to revolutionize the way we produce and use energy. And as I have said many times       0.00      0.00      0.00         1\n",
      "                                                                                                                                                                                                                                                                                                    she is severely disabled and needs me here! I get up at 5 AM       0.00      0.00      0.00         1\n",
      "                                                                                                                                                                                                                                                                                 the priestly tribe who are the keepers of the Din√©‚Äôs most profound secrets.        0.00      0.00      0.00         1\n",
      "                                                                                                                                                                                                                                                                                                                        the safety net is going to break.‚Äù Yes       0.00      0.00      0.00         1\n",
      "                                                                                                                                                                                                                                                                                                                                    to crack down on immigration       0.00      0.00      0.00         1\n",
      " we never read about having to step over alternating piles of child prostitutes and dying old people in the street as you tried to make your way to your sweatshop job. The standard of living was increasing like history has never seen before when people were allowed to keep the fruits of their own labor (a one income household could support 5-6 people       0.00      0.00      0.00         1\n",
      "                                                                                                                                                                                                                                                                                                                                                               0       0.85      0.89      0.87       401\n",
      "                                                                                                                                                                                                                                                                                                                                                               1       0.83      0.88      0.85       437\n",
      "                                                                                                                                                                                                                                                                                                                                                ‚Äù Soei told me       0.00      0.00      0.00         1\n",
      "                                                                                                                                                                                                                                     ‚Äù and his summons to action was rebuffed by the European advocates of appeasement. But as history was soon to demonstrate       0.00      0.00      0.00         1\n",
      "\n",
      "                                                                                                                                                                                                                                                                                                                                                        accuracy                           0.84       880\n",
      "                                                                                                                                                                                                                                                                                                                                                       macro avg       0.04      0.04      0.04       880\n",
      "                                                                                                                                                                                                                                                                                                                                                    weighted avg       0.80      0.84      0.82       880\n",
      "\n"
     ]
    },
    {
     "name": "stderr",
     "output_type": "stream",
     "text": [
      "/opt/homebrew/Cellar/jupyterlab/4.2.5_1/libexec/lib/python3.12/site-packages/sklearn/metrics/_classification.py:1531: UndefinedMetricWarning: Precision is ill-defined and being set to 0.0 in labels with no predicted samples. Use `zero_division` parameter to control this behavior.\n",
      "  _warn_prf(average, modifier, f\"{metric.capitalize()} is\", len(result))\n",
      "/opt/homebrew/Cellar/jupyterlab/4.2.5_1/libexec/lib/python3.12/site-packages/sklearn/metrics/_classification.py:1531: UndefinedMetricWarning: Recall is ill-defined and being set to 0.0 in labels with no true samples. Use `zero_division` parameter to control this behavior.\n",
      "  _warn_prf(average, modifier, f\"{metric.capitalize()} is\", len(result))\n",
      "/opt/homebrew/Cellar/jupyterlab/4.2.5_1/libexec/lib/python3.12/site-packages/sklearn/metrics/_classification.py:1531: UndefinedMetricWarning: Precision is ill-defined and being set to 0.0 in labels with no predicted samples. Use `zero_division` parameter to control this behavior.\n",
      "  _warn_prf(average, modifier, f\"{metric.capitalize()} is\", len(result))\n",
      "/opt/homebrew/Cellar/jupyterlab/4.2.5_1/libexec/lib/python3.12/site-packages/sklearn/metrics/_classification.py:1531: UndefinedMetricWarning: Recall is ill-defined and being set to 0.0 in labels with no true samples. Use `zero_division` parameter to control this behavior.\n",
      "  _warn_prf(average, modifier, f\"{metric.capitalize()} is\", len(result))\n",
      "/opt/homebrew/Cellar/jupyterlab/4.2.5_1/libexec/lib/python3.12/site-packages/sklearn/metrics/_classification.py:1531: UndefinedMetricWarning: Precision is ill-defined and being set to 0.0 in labels with no predicted samples. Use `zero_division` parameter to control this behavior.\n",
      "  _warn_prf(average, modifier, f\"{metric.capitalize()} is\", len(result))\n",
      "/opt/homebrew/Cellar/jupyterlab/4.2.5_1/libexec/lib/python3.12/site-packages/sklearn/metrics/_classification.py:1531: UndefinedMetricWarning: Recall is ill-defined and being set to 0.0 in labels with no true samples. Use `zero_division` parameter to control this behavior.\n",
      "  _warn_prf(average, modifier, f\"{metric.capitalize()} is\", len(result))\n"
     ]
    }
   ],
   "source": [
    "from sklearn.metrics import confusion_matrix\n",
    "import numpy as np\n",
    "\n",
    "# Convert embeddings to numpy arrays for processing\n",
    "X_train = np.array(embeddings_train)\n",
    "X_val = np.array(embeddings_val)\n",
    "X_test = np.array(embeddings_test)\n",
    "\n",
    "\n",
    "# Scale embeddings\n",
    "scaler = StandardScaler()\n",
    "X_train_scaled = scaler.fit_transform(X_train)\n",
    "X_val_scaled = scaler.transform(X_val)\n",
    "X_test_scaled = scaler.transform(X_test)\n",
    "\n",
    "# Increase max_iter in LogisticRegression / Train a classifier\n",
    "#clf = RandomForestClassifier(n_estimators=100, random_state=42)\n",
    "#clf = LogisticRegression(max_iter=500)  # Increase iterations\n",
    "\n",
    "# Train an ensemble model\n",
    "ensemble = VotingClassifier(estimators=[\n",
    "    ('lr', LogisticRegression(max_iter=500)),\n",
    "    ('rf', RandomForestClassifier(n_estimators=100, random_state=42)),\n",
    "    ('svc', SVC(kernel='rbf', probability=True))\n",
    "], voting='soft')\n",
    "ensemble.fit(X_train_scaled, y_train)\n",
    "\n",
    "# Validate the model\n",
    "y_val_pred = ensemble.predict(X_val_scaled)\n",
    "val_accuracy = accuracy_score(y_val, y_val_pred)\n",
    "print(f\"Validation Accuracy: {val_accuracy * 100:.2f}%\")\n",
    "\n",
    "# Test the model\n",
    "y_test_pred = ensemble.predict(X_test_scaled)\n",
    "test_accuracy = accuracy_score(y_test, y_test_pred)\n",
    "print(f\"Test Accuracy: {test_accuracy * 100:.2f}%\")\n",
    "\n",
    "# Confusion matrix\n",
    "print(\"\\nConfusion Matrix:\\n\", confusion_matrix(y_test, y_test_pred))\n",
    "\n",
    "# Classification report\n",
    "print(\"\\nClassification Report:\")\n",
    "print(classification_report(y_test, y_test_pred))\n",
    "\n"
   ]
  },
  {
   "cell_type": "code",
   "execution_count": 8,
   "id": "db216b38-bb6a-47c1-8971-9f46871fef34",
   "metadata": {},
   "outputs": [
    {
     "name": "stdout",
     "output_type": "stream",
     "text": [
      "Analysis complete. Results saved'.\n"
     ]
    }
   ],
   "source": [
    "# Drop any unnamed columns (columns with no header) if they exist\n",
    "df = df.loc[:, ~df.columns.str.contains('^Unnamed')]\n",
    "\n",
    "# Add predictions to original dataframe\n",
    "#df['prediction'] = df['prediction'].apply(lambda x: 'real' if x == 1 else 'fake')\n",
    "\n",
    "# Save results\n",
    "df.to_csv('bert_welfcombined.csv', index=False)\n",
    "print(\"Analysis complete. Results saved'.\")\n"
   ]
  },
  {
   "cell_type": "code",
   "execution_count": null,
   "id": "2acfa12c-4e4b-44d8-b32a-a777a9d4643d",
   "metadata": {},
   "outputs": [],
   "source": []
  }
 ],
 "metadata": {
  "kernelspec": {
   "display_name": "Python 3 (ipykernel)",
   "language": "python",
   "name": "python3"
  },
  "language_info": {
   "codemirror_mode": {
    "name": "ipython",
    "version": 3
   },
   "file_extension": ".py",
   "mimetype": "text/x-python",
   "name": "python",
   "nbconvert_exporter": "python",
   "pygments_lexer": "ipython3",
   "version": "3.12.7"
  }
 },
 "nbformat": 4,
 "nbformat_minor": 5
}
